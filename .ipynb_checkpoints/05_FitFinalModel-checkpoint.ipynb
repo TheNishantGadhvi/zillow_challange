{
 "cells": [
  {
   "cell_type": "code",
   "execution_count": 1,
   "metadata": {},
   "outputs": [
    {
     "name": "stderr",
     "output_type": "stream",
     "text": [
      "/Users/nishant/Documents/DSDJ/data-science-conda/anaconda3/lib/python3.6/importlib/_bootstrap.py:219: RuntimeWarning: numpy.ufunc size changed, may indicate binary incompatibility. Expected 192 from C header, got 216 from PyObject\n",
      "  return f(*args, **kwds)\n"
     ]
    }
   ],
   "source": [
    "import sys\n",
    "sys.path.insert(0, './helper')\n",
    "\n",
    "import numpy as np\n",
    "import matplotlib.pyplot as plt\n",
    "import pandas as pd\n",
    "from sklearn.ensemble import GradientBoostingRegressor\n",
    "from sklearn.pipeline import Pipeline\n",
    "\n",
    "# now read in the new function\n",
    "from helpers import get_data, mean_abs_error\n",
    "from preprocessor import preprocessor"
   ]
  },
  {
   "cell_type": "markdown",
   "metadata": {},
   "source": [
    "### Create Model Object\n",
    "Now this is the fun part, where all our careful work to ensure we lived into good code standards pays off. We'll use a [Scikit-Learn Pipeline](http://scikit-learn.org/stable/modules/generated/sklearn.pipeline.Pipeline.html) to combine the preprocessing and GBM steps into one package.\n",
    "\n",
    "The pipeline object called my_model implements fit and predict methods (among others). When we call the fit method, the pipeline will execute preprocessor.fit_transform() on the data we pass in the arguments, then pass that result to GradientBoostingRegressor.fit(). Similarly, when we call the predict method, it will execute preprocessor.transform() and then GradientBoostingRegressor.predict().\n",
    "\n",
    "Another major benefit of living into the fit, transform, predict paradigm of Scikit-Learn is that you can add other preprocessing steps (like PCA or some other feature transformation) into the pipeline with little modification to existing code. Finally, if any of the steps required parameter tuning (like chosing the number of principal components to use in your model), you can tune them all at once by implementing the steps in a pipeline then using a parameter selection method like Grid Search on the entire pipeline. Look through some examples in the documentation linked above for further reading."
   ]
  },
  {
   "cell_type": "code",
   "execution_count": 2,
   "metadata": {},
   "outputs": [],
   "source": [
    "p = preprocessor(cols_to_filter = ['rawcensustractandblock', 'censustractandblock', 'propertyzoningdesc', \n",
    "                                 'regionidneighborhood', 'regionidzip', 'parcelid'], datecols=['transactiondate'])\n",
    "gbm = GradientBoostingRegressor(n_estimators=1000, learning_rate=0.1, max_depth=2, loss='lad', subsample=0.5)\n",
    "\n",
    "my_model = Pipeline([('preprocessor', p), ('GB regressor', gbm)])"
   ]
  },
  {
   "cell_type": "markdown",
   "metadata": {},
   "source": [
    "### Fit Final Model\n",
    "Because we've written good code up to this point, these steps are really interpretable and easy to read."
   ]
  },
  {
   "cell_type": "code",
   "execution_count": 3,
   "metadata": {},
   "outputs": [
    {
     "name": "stderr",
     "output_type": "stream",
     "text": [
      "/Users/nishant/Documents/DSDJ/data-science-conda/anaconda3/lib/python3.6/site-packages/IPython/core/interactiveshell.py:3296: DtypeWarning: Columns (22,32,34,49,55) have mixed types. Specify dtype option on import or set low_memory=False.\n",
      "  exec(code_obj, self.user_global_ns, self.user_ns)\n"
     ]
    }
   ],
   "source": [
    "X_train, y_train = get_data('train')"
   ]
  },
  {
   "cell_type": "code",
   "execution_count": 4,
   "metadata": {},
   "outputs": [
    {
     "data": {
      "text/plain": [
       "Pipeline(memory=None,\n",
       "     steps=[('preprocessor', <preprocessor.preprocessor object at 0x1a1b87a278>), ('GB regressor', GradientBoostingRegressor(alpha=0.9, criterion='friedman_mse', init=None,\n",
       "             learning_rate=0.1, loss='lad', max_depth=2, max_features=None,\n",
       "             max_leaf_nodes=None, min_impurity_decrease=...one, subsample=0.5, tol=0.0001,\n",
       "             validation_fraction=0.1, verbose=0, warm_start=False))])"
      ]
     },
     "execution_count": 4,
     "metadata": {},
     "output_type": "execute_result"
    }
   ],
   "source": [
    "my_model.fit(X_train, y_train)"
   ]
  },
  {
   "cell_type": "markdown",
   "metadata": {},
   "source": [
    "### Score Test Dataset\n",
    "We should only do this once or a handful of times because it's possible to overfit the test set. Remember this is the test dataset that was released after the competition was over, but is not the same format as what is scored as part of the competition. Our final evaluation will be making a Kaggle submission, however we can use this test set to visualize our model results on an out-of-time test set, meaning this data is from another time period as the data we trained the model on."
   ]
  },
  {
   "cell_type": "code",
   "execution_count": 6,
   "metadata": {},
   "outputs": [
    {
     "name": "stderr",
     "output_type": "stream",
     "text": [
      "/Users/nishant/Documents/DSDJ/data-science-conda/anaconda3/lib/python3.6/site-packages/IPython/core/interactiveshell.py:3296: DtypeWarning: Columns (49) have mixed types. Specify dtype option on import or set low_memory=False.\n",
      "  exec(code_obj, self.user_global_ns, self.user_ns)\n"
     ]
    }
   ],
   "source": [
    "X_test, y_test = get_data('test')\n",
    "y_pred = my_model.predict(X_test)"
   ]
  },
  {
   "cell_type": "markdown",
   "metadata": {},
   "source": [
    "### Evaluate Model"
   ]
  },
  {
   "cell_type": "code",
   "execution_count": 10,
   "metadata": {},
   "outputs": [
    {
     "data": {
      "text/plain": [
       "0.06970475324840694"
      ]
     },
     "execution_count": 10,
     "metadata": {},
     "output_type": "execute_result"
    }
   ],
   "source": [
    "# Using the naive median prediction method\n",
    "mean_abs_error(y_test, y_train.median())"
   ]
  },
  {
   "cell_type": "code",
   "execution_count": 13,
   "metadata": {},
   "outputs": [
    {
     "data": {
      "text/plain": [
       "0.06923656468060826"
      ]
     },
     "execution_count": 13,
     "metadata": {},
     "output_type": "execute_result"
    }
   ],
   "source": [
    "# Using our actual model\n",
    "mean_abs_error(y_test, y_pred)"
   ]
  },
  {
   "cell_type": "markdown",
   "metadata": {},
   "source": [
    "### Plot the Model Results\n",
    "Actuals vs. Predictions"
   ]
  },
  {
   "cell_type": "code",
   "execution_count": 17,
   "metadata": {},
   "outputs": [
    {
     "data": {
      "image/png": "[encoded data removed]",
      "text/plain": [
       "<Figure size 432x288 with 1 Axes>"
      ]
     },
     "metadata": {
      "needs_background": "light"
     },
     "output_type": "display_data"
    }
   ],
   "source": [
    "fig, ax = plt.subplots()\n",
    "ax.scatter(y_test, y_pred, s=1)\n",
    "ax.set_title(\"Actual Vs. Prediction\")\n",
    "ax.set_xlabel(\"True\")\n",
    "ax.set_ylabel(\"Pred\")\n",
    "ax.set_ylim(-5, 5)\n",
    "plt.show()"
   ]
  },
  {
   "cell_type": "markdown",
   "metadata": {},
   "source": [
    "This plot shows exactly where our lack of predictive power is coming from: our model is predicting everything really close to the average or median (probably median given our choice of loss function) instead of making useful predictions."
   ]
  },
  {
   "cell_type": "markdown",
   "metadata": {},
   "source": [
    "### Distribution of Actuals and Predictions"
   ]
  },
  {
   "cell_type": "code",
   "execution_count": 36,
   "metadata": {},
   "outputs": [
    {
     "data": {
      "image/png": "[encoded data removed]",
      "text/plain": [
       "<Figure size 432x288 with 1 Axes>"
      ]
     },
     "metadata": {
      "needs_background": "light"
     },
     "output_type": "display_data"
    }
   ],
   "source": [
    "fig, ax = plt.subplots()\n",
    "bins = np.linspace(-3, 3, 30)\n",
    "ax.hist([y_pred, y_test], label=['pred', 'true'], alpha=0.5, bins=bins, log=True)\n",
    "plt.legend(loc='upper right')\n",
    "plt.show()"
   ]
  },
  {
   "cell_type": "markdown",
   "metadata": {},
   "source": [
    "Notice also how our model predictions have far less variance than our true response values."
   ]
  },
  {
   "cell_type": "code",
   "execution_count": 53,
   "metadata": {},
   "outputs": [
    {
     "data": {
      "image/png": "[encoded data removed]",
      "text/plain": [
       "<Figure size 360x720 with 1 Axes>"
      ]
     },
     "metadata": {
      "needs_background": "light"
     },
     "output_type": "display_data"
    }
   ],
   "source": [
    "def feat_imp_plot(sk_model, feat_names, N_feature):\n",
    "    \n",
    "    feature_importance = sk_model.feature_importances_\n",
    "    feature_importance = 100.0 * feature_importance / feature_importance.max()\n",
    "    sorted_idx = np.argsort(feature_importance)\n",
    "    total_features = sorted_idx.shape[0]\n",
    "    pos = np.arange(total_features) + 0.5\n",
    "    \n",
    "    fig, ax = plt.subplots(figsize=(5,10))\n",
    "    ax.barh(pos, feature_importance[sorted_idx], align='center')\n",
    "    ax.set_yticks(pos)\n",
    "    ax.set_yticklabels(fnames[sorted_idx])\n",
    "    ax.set_ylim(total_features-N_feature, total_features)\n",
    "    ax.set_xlabel('Relative Importance')\n",
    "    plt.title('Variable Importance')\n",
    "    plt.show()\n",
    "    \n",
    "fnames = my_model.steps[0][1].transform(pd.DataFrame(X_test.iloc[0]).T).columns\n",
    "feat_imp_plot(my_model.steps[1][1], fnames, 15)"
   ]
  },
  {
   "cell_type": "markdown",
   "metadata": {},
   "source": [
    "Remember, these feature importances are on the model for predicting the error between the Zestimate and the actual sale price, so you could conclude that the features are the ones Zillow's model aren't fully capturing signal from."
   ]
  },
  {
   "cell_type": "code",
   "execution_count": 54,
   "metadata": {},
   "outputs": [],
   "source": [
    "!mkdir -p models"
   ]
  },
  {
   "cell_type": "code",
   "execution_count": 55,
   "metadata": {},
   "outputs": [
    {
     "data": {
      "text/plain": [
       "['models/model.pkl']"
      ]
     },
     "execution_count": 55,
     "metadata": {},
     "output_type": "execute_result"
    }
   ],
   "source": [
    "from sklearn.externals import joblib\n",
    "joblib.dump(my_model, 'models/model.pkl')"
   ]
  }
 ],
 "metadata": {
  "kernelspec": {
   "display_name": "Python 3",
   "language": "python",
   "name": "python3"
  },
  "language_info": {
   "codemirror_mode": {
    "name": "ipython",
    "version": 3
   },
   "file_extension": ".py",
   "mimetype": "text/x-python",
   "name": "python",
   "nbconvert_exporter": "python",
   "pygments_lexer": "ipython3",
   "version": "3.6.8"
  }
 },
 "nbformat": 4,
 "nbformat_minor": 2
}
