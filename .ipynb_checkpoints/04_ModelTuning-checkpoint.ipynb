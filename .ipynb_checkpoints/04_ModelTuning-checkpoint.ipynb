{
 "cells": [
  {
   "cell_type": "code",
   "execution_count": 27,
   "metadata": {},
   "outputs": [],
   "source": [
    "import sys \n",
    "sys.path.insert(0, './helper')\n",
    "\n",
    "# Read in the new function we created in preprocessor file\n",
    "from helpers import get_data\n",
    "from preprocessor import preprocessor\n",
    "\n",
    "%matplotlib inline\n",
    "import numpy as np\n",
    "import matplotlib.pyplot as plt\n",
    "import pandas as pd\n",
    "from sklearn.ensemble import GradientBoostingRegressor\n",
    "from sklearn.model_selection import train_test_split\n"
   ]
  },
  {
   "cell_type": "code",
   "execution_count": 2,
   "metadata": {},
   "outputs": [
    {
     "name": "stderr",
     "output_type": "stream",
     "text": [
      "/Users/nishant/Documents/DSDJ/data-science-conda/anaconda3/lib/python3.6/site-packages/IPython/core/interactiveshell.py:3296: DtypeWarning: Columns (22,32,34,49,55) have mixed types. Specify dtype option on import or set low_memory=False.\n",
      "  exec(code_obj, self.user_global_ns, self.user_ns)\n"
     ]
    }
   ],
   "source": [
    "X, y = get_data('train')"
   ]
  },
  {
   "cell_type": "code",
   "execution_count": 3,
   "metadata": {},
   "outputs": [
    {
     "data": {
      "text/html": [
       "<div>\n",
       "<style scoped>\n",
       "    .dataframe tbody tr th:only-of-type {\n",
       "        vertical-align: middle;\n",
       "    }\n",
       "\n",
       "    .dataframe tbody tr th {\n",
       "        vertical-align: top;\n",
       "    }\n",
       "\n",
       "    .dataframe thead th {\n",
       "        text-align: right;\n",
       "    }\n",
       "</style>\n",
       "<table border=\"1\" class=\"dataframe\">\n",
       "  <thead>\n",
       "    <tr style=\"text-align: right;\">\n",
       "      <th></th>\n",
       "      <th>parcelid</th>\n",
       "      <th>transactiondate</th>\n",
       "      <th>airconditioningtypeid</th>\n",
       "      <th>architecturalstyletypeid</th>\n",
       "      <th>basementsqft</th>\n",
       "      <th>bathroomcnt</th>\n",
       "      <th>bedroomcnt</th>\n",
       "      <th>buildingclasstypeid</th>\n",
       "      <th>buildingqualitytypeid</th>\n",
       "      <th>calculatedbathnbr</th>\n",
       "      <th>...</th>\n",
       "      <th>numberofstories</th>\n",
       "      <th>fireplaceflag</th>\n",
       "      <th>structuretaxvaluedollarcnt</th>\n",
       "      <th>taxvaluedollarcnt</th>\n",
       "      <th>assessmentyear</th>\n",
       "      <th>landtaxvaluedollarcnt</th>\n",
       "      <th>taxamount</th>\n",
       "      <th>taxdelinquencyflag</th>\n",
       "      <th>taxdelinquencyyear</th>\n",
       "      <th>censustractandblock</th>\n",
       "    </tr>\n",
       "  </thead>\n",
       "  <tbody>\n",
       "    <tr>\n",
       "      <th>0</th>\n",
       "      <td>11016594</td>\n",
       "      <td>2016-01-01</td>\n",
       "      <td>1.0</td>\n",
       "      <td>NaN</td>\n",
       "      <td>NaN</td>\n",
       "      <td>2.0</td>\n",
       "      <td>3.0</td>\n",
       "      <td>NaN</td>\n",
       "      <td>4.0</td>\n",
       "      <td>2.0</td>\n",
       "      <td>...</td>\n",
       "      <td>NaN</td>\n",
       "      <td>NaN</td>\n",
       "      <td>122754.0</td>\n",
       "      <td>360170.0</td>\n",
       "      <td>2015.0</td>\n",
       "      <td>237416.0</td>\n",
       "      <td>6735.88</td>\n",
       "      <td>NaN</td>\n",
       "      <td>NaN</td>\n",
       "      <td>6.037107e+13</td>\n",
       "    </tr>\n",
       "    <tr>\n",
       "      <th>1</th>\n",
       "      <td>14366692</td>\n",
       "      <td>2016-01-01</td>\n",
       "      <td>NaN</td>\n",
       "      <td>NaN</td>\n",
       "      <td>NaN</td>\n",
       "      <td>3.5</td>\n",
       "      <td>4.0</td>\n",
       "      <td>NaN</td>\n",
       "      <td>NaN</td>\n",
       "      <td>3.5</td>\n",
       "      <td>...</td>\n",
       "      <td>NaN</td>\n",
       "      <td>NaN</td>\n",
       "      <td>346458.0</td>\n",
       "      <td>585529.0</td>\n",
       "      <td>2015.0</td>\n",
       "      <td>239071.0</td>\n",
       "      <td>10153.02</td>\n",
       "      <td>NaN</td>\n",
       "      <td>NaN</td>\n",
       "      <td>NaN</td>\n",
       "    </tr>\n",
       "    <tr>\n",
       "      <th>2</th>\n",
       "      <td>12098116</td>\n",
       "      <td>2016-01-01</td>\n",
       "      <td>1.0</td>\n",
       "      <td>NaN</td>\n",
       "      <td>NaN</td>\n",
       "      <td>3.0</td>\n",
       "      <td>2.0</td>\n",
       "      <td>NaN</td>\n",
       "      <td>4.0</td>\n",
       "      <td>3.0</td>\n",
       "      <td>...</td>\n",
       "      <td>NaN</td>\n",
       "      <td>NaN</td>\n",
       "      <td>61994.0</td>\n",
       "      <td>119906.0</td>\n",
       "      <td>2015.0</td>\n",
       "      <td>57912.0</td>\n",
       "      <td>11484.48</td>\n",
       "      <td>NaN</td>\n",
       "      <td>NaN</td>\n",
       "      <td>6.037464e+13</td>\n",
       "    </tr>\n",
       "    <tr>\n",
       "      <th>3</th>\n",
       "      <td>12643413</td>\n",
       "      <td>2016-01-02</td>\n",
       "      <td>1.0</td>\n",
       "      <td>NaN</td>\n",
       "      <td>NaN</td>\n",
       "      <td>2.0</td>\n",
       "      <td>2.0</td>\n",
       "      <td>NaN</td>\n",
       "      <td>4.0</td>\n",
       "      <td>2.0</td>\n",
       "      <td>...</td>\n",
       "      <td>NaN</td>\n",
       "      <td>NaN</td>\n",
       "      <td>171518.0</td>\n",
       "      <td>244880.0</td>\n",
       "      <td>2015.0</td>\n",
       "      <td>73362.0</td>\n",
       "      <td>3048.74</td>\n",
       "      <td>NaN</td>\n",
       "      <td>NaN</td>\n",
       "      <td>6.037296e+13</td>\n",
       "    </tr>\n",
       "    <tr>\n",
       "      <th>4</th>\n",
       "      <td>14432541</td>\n",
       "      <td>2016-01-02</td>\n",
       "      <td>NaN</td>\n",
       "      <td>NaN</td>\n",
       "      <td>NaN</td>\n",
       "      <td>2.5</td>\n",
       "      <td>4.0</td>\n",
       "      <td>NaN</td>\n",
       "      <td>NaN</td>\n",
       "      <td>2.5</td>\n",
       "      <td>...</td>\n",
       "      <td>2.0</td>\n",
       "      <td>NaN</td>\n",
       "      <td>169574.0</td>\n",
       "      <td>434551.0</td>\n",
       "      <td>2015.0</td>\n",
       "      <td>264977.0</td>\n",
       "      <td>5488.96</td>\n",
       "      <td>NaN</td>\n",
       "      <td>NaN</td>\n",
       "      <td>6.059042e+13</td>\n",
       "    </tr>\n",
       "  </tbody>\n",
       "</table>\n",
       "<p>5 rows × 59 columns</p>\n",
       "</div>"
      ],
      "text/plain": [
       "   parcelid transactiondate  airconditioningtypeid  architecturalstyletypeid  \\\n",
       "0  11016594      2016-01-01                    1.0                       NaN   \n",
       "1  14366692      2016-01-01                    NaN                       NaN   \n",
       "2  12098116      2016-01-01                    1.0                       NaN   \n",
       "3  12643413      2016-01-02                    1.0                       NaN   \n",
       "4  14432541      2016-01-02                    NaN                       NaN   \n",
       "\n",
       "   basementsqft  bathroomcnt  bedroomcnt  buildingclasstypeid  \\\n",
       "0           NaN          2.0         3.0                  NaN   \n",
       "1           NaN          3.5         4.0                  NaN   \n",
       "2           NaN          3.0         2.0                  NaN   \n",
       "3           NaN          2.0         2.0                  NaN   \n",
       "4           NaN          2.5         4.0                  NaN   \n",
       "\n",
       "   buildingqualitytypeid  calculatedbathnbr  ...  numberofstories  \\\n",
       "0                    4.0                2.0  ...              NaN   \n",
       "1                    NaN                3.5  ...              NaN   \n",
       "2                    4.0                3.0  ...              NaN   \n",
       "3                    4.0                2.0  ...              NaN   \n",
       "4                    NaN                2.5  ...              2.0   \n",
       "\n",
       "   fireplaceflag  structuretaxvaluedollarcnt  taxvaluedollarcnt  \\\n",
       "0            NaN                    122754.0           360170.0   \n",
       "1            NaN                    346458.0           585529.0   \n",
       "2            NaN                     61994.0           119906.0   \n",
       "3            NaN                    171518.0           244880.0   \n",
       "4            NaN                    169574.0           434551.0   \n",
       "\n",
       "   assessmentyear  landtaxvaluedollarcnt  taxamount  taxdelinquencyflag  \\\n",
       "0          2015.0               237416.0    6735.88                 NaN   \n",
       "1          2015.0               239071.0   10153.02                 NaN   \n",
       "2          2015.0                57912.0   11484.48                 NaN   \n",
       "3          2015.0                73362.0    3048.74                 NaN   \n",
       "4          2015.0               264977.0    5488.96                 NaN   \n",
       "\n",
       "   taxdelinquencyyear  censustractandblock  \n",
       "0                 NaN         6.037107e+13  \n",
       "1                 NaN                  NaN  \n",
       "2                 NaN         6.037464e+13  \n",
       "3                 NaN         6.037296e+13  \n",
       "4                 NaN         6.059042e+13  \n",
       "\n",
       "[5 rows x 59 columns]"
      ]
     },
     "execution_count": 3,
     "metadata": {},
     "output_type": "execute_result"
    }
   ],
   "source": [
    "X.head()"
   ]
  },
  {
   "cell_type": "code",
   "execution_count": 4,
   "metadata": {},
   "outputs": [],
   "source": [
    "# use our preprocessor on the training data\n",
    "p=preprocessor(cols_to_filter = ['rawcensustractandblock', 'censustractandblock', 'propertyzoningdesc', \n",
    "                                 'regionidneighborhood', 'regionidzip', 'parcelid'], datecols=['transactiondate'])\n",
    "\n",
    "X = p.fit_transform(X)"
   ]
  },
  {
   "cell_type": "code",
   "execution_count": 5,
   "metadata": {},
   "outputs": [
    {
     "data": {
      "text/html": [
       "<div>\n",
       "<style scoped>\n",
       "    .dataframe tbody tr th:only-of-type {\n",
       "        vertical-align: middle;\n",
       "    }\n",
       "\n",
       "    .dataframe tbody tr th {\n",
       "        vertical-align: top;\n",
       "    }\n",
       "\n",
       "    .dataframe thead th {\n",
       "        text-align: right;\n",
       "    }\n",
       "</style>\n",
       "<table border=\"1\" class=\"dataframe\">\n",
       "  <thead>\n",
       "    <tr style=\"text-align: right;\">\n",
       "      <th></th>\n",
       "      <th>airconditioningtypeid</th>\n",
       "      <th>architecturalstyletypeid</th>\n",
       "      <th>basementsqft</th>\n",
       "      <th>bathroomcnt</th>\n",
       "      <th>bedroomcnt</th>\n",
       "      <th>buildingclasstypeid</th>\n",
       "      <th>buildingqualitytypeid</th>\n",
       "      <th>calculatedbathnbr</th>\n",
       "      <th>decktypeid</th>\n",
       "      <th>finishedfloor1squarefeet</th>\n",
       "      <th>...</th>\n",
       "      <th>propertycountylandusecode_73</th>\n",
       "      <th>propertycountylandusecode_8800</th>\n",
       "      <th>propertycountylandusecode_96</th>\n",
       "      <th>propertycountylandusecode_nan</th>\n",
       "      <th>fireplaceflag_True</th>\n",
       "      <th>fireplaceflag_nan</th>\n",
       "      <th>taxdelinquencyflag_Y</th>\n",
       "      <th>taxdelinquencyflag_nan</th>\n",
       "      <th>transactiondate_month</th>\n",
       "      <th>transactiondate_year</th>\n",
       "    </tr>\n",
       "  </thead>\n",
       "  <tbody>\n",
       "    <tr>\n",
       "      <th>0</th>\n",
       "      <td>1.0</td>\n",
       "      <td>-1.0</td>\n",
       "      <td>-1.0</td>\n",
       "      <td>2.0</td>\n",
       "      <td>3.0</td>\n",
       "      <td>-1.0</td>\n",
       "      <td>4.0</td>\n",
       "      <td>2.0</td>\n",
       "      <td>-1.0</td>\n",
       "      <td>-1.0</td>\n",
       "      <td>...</td>\n",
       "      <td>0</td>\n",
       "      <td>0</td>\n",
       "      <td>0</td>\n",
       "      <td>0</td>\n",
       "      <td>0</td>\n",
       "      <td>1</td>\n",
       "      <td>0</td>\n",
       "      <td>1</td>\n",
       "      <td>1</td>\n",
       "      <td>2016</td>\n",
       "    </tr>\n",
       "    <tr>\n",
       "      <th>1</th>\n",
       "      <td>-1.0</td>\n",
       "      <td>-1.0</td>\n",
       "      <td>-1.0</td>\n",
       "      <td>3.5</td>\n",
       "      <td>4.0</td>\n",
       "      <td>-1.0</td>\n",
       "      <td>-1.0</td>\n",
       "      <td>3.5</td>\n",
       "      <td>-1.0</td>\n",
       "      <td>-1.0</td>\n",
       "      <td>...</td>\n",
       "      <td>0</td>\n",
       "      <td>0</td>\n",
       "      <td>0</td>\n",
       "      <td>0</td>\n",
       "      <td>0</td>\n",
       "      <td>1</td>\n",
       "      <td>0</td>\n",
       "      <td>1</td>\n",
       "      <td>1</td>\n",
       "      <td>2016</td>\n",
       "    </tr>\n",
       "    <tr>\n",
       "      <th>2</th>\n",
       "      <td>1.0</td>\n",
       "      <td>-1.0</td>\n",
       "      <td>-1.0</td>\n",
       "      <td>3.0</td>\n",
       "      <td>2.0</td>\n",
       "      <td>-1.0</td>\n",
       "      <td>4.0</td>\n",
       "      <td>3.0</td>\n",
       "      <td>-1.0</td>\n",
       "      <td>-1.0</td>\n",
       "      <td>...</td>\n",
       "      <td>0</td>\n",
       "      <td>0</td>\n",
       "      <td>0</td>\n",
       "      <td>0</td>\n",
       "      <td>0</td>\n",
       "      <td>1</td>\n",
       "      <td>0</td>\n",
       "      <td>1</td>\n",
       "      <td>1</td>\n",
       "      <td>2016</td>\n",
       "    </tr>\n",
       "    <tr>\n",
       "      <th>3</th>\n",
       "      <td>1.0</td>\n",
       "      <td>-1.0</td>\n",
       "      <td>-1.0</td>\n",
       "      <td>2.0</td>\n",
       "      <td>2.0</td>\n",
       "      <td>-1.0</td>\n",
       "      <td>4.0</td>\n",
       "      <td>2.0</td>\n",
       "      <td>-1.0</td>\n",
       "      <td>-1.0</td>\n",
       "      <td>...</td>\n",
       "      <td>0</td>\n",
       "      <td>0</td>\n",
       "      <td>0</td>\n",
       "      <td>0</td>\n",
       "      <td>0</td>\n",
       "      <td>1</td>\n",
       "      <td>0</td>\n",
       "      <td>1</td>\n",
       "      <td>1</td>\n",
       "      <td>2016</td>\n",
       "    </tr>\n",
       "    <tr>\n",
       "      <th>4</th>\n",
       "      <td>-1.0</td>\n",
       "      <td>-1.0</td>\n",
       "      <td>-1.0</td>\n",
       "      <td>2.5</td>\n",
       "      <td>4.0</td>\n",
       "      <td>-1.0</td>\n",
       "      <td>-1.0</td>\n",
       "      <td>2.5</td>\n",
       "      <td>-1.0</td>\n",
       "      <td>-1.0</td>\n",
       "      <td>...</td>\n",
       "      <td>0</td>\n",
       "      <td>0</td>\n",
       "      <td>0</td>\n",
       "      <td>0</td>\n",
       "      <td>0</td>\n",
       "      <td>1</td>\n",
       "      <td>0</td>\n",
       "      <td>1</td>\n",
       "      <td>1</td>\n",
       "      <td>2016</td>\n",
       "    </tr>\n",
       "  </tbody>\n",
       "</table>\n",
       "<p>5 rows × 134 columns</p>\n",
       "</div>"
      ],
      "text/plain": [
       "   airconditioningtypeid  architecturalstyletypeid  basementsqft  bathroomcnt  \\\n",
       "0                    1.0                      -1.0          -1.0          2.0   \n",
       "1                   -1.0                      -1.0          -1.0          3.5   \n",
       "2                    1.0                      -1.0          -1.0          3.0   \n",
       "3                    1.0                      -1.0          -1.0          2.0   \n",
       "4                   -1.0                      -1.0          -1.0          2.5   \n",
       "\n",
       "   bedroomcnt  buildingclasstypeid  buildingqualitytypeid  calculatedbathnbr  \\\n",
       "0         3.0                 -1.0                    4.0                2.0   \n",
       "1         4.0                 -1.0                   -1.0                3.5   \n",
       "2         2.0                 -1.0                    4.0                3.0   \n",
       "3         2.0                 -1.0                    4.0                2.0   \n",
       "4         4.0                 -1.0                   -1.0                2.5   \n",
       "\n",
       "   decktypeid  finishedfloor1squarefeet  ...  propertycountylandusecode_73  \\\n",
       "0        -1.0                      -1.0  ...                             0   \n",
       "1        -1.0                      -1.0  ...                             0   \n",
       "2        -1.0                      -1.0  ...                             0   \n",
       "3        -1.0                      -1.0  ...                             0   \n",
       "4        -1.0                      -1.0  ...                             0   \n",
       "\n",
       "   propertycountylandusecode_8800  propertycountylandusecode_96  \\\n",
       "0                               0                             0   \n",
       "1                               0                             0   \n",
       "2                               0                             0   \n",
       "3                               0                             0   \n",
       "4                               0                             0   \n",
       "\n",
       "   propertycountylandusecode_nan  fireplaceflag_True  fireplaceflag_nan  \\\n",
       "0                              0                   0                  1   \n",
       "1                              0                   0                  1   \n",
       "2                              0                   0                  1   \n",
       "3                              0                   0                  1   \n",
       "4                              0                   0                  1   \n",
       "\n",
       "   taxdelinquencyflag_Y  taxdelinquencyflag_nan  transactiondate_month  \\\n",
       "0                     0                       1                      1   \n",
       "1                     0                       1                      1   \n",
       "2                     0                       1                      1   \n",
       "3                     0                       1                      1   \n",
       "4                     0                       1                      1   \n",
       "\n",
       "   transactiondate_year  \n",
       "0                  2016  \n",
       "1                  2016  \n",
       "2                  2016  \n",
       "3                  2016  \n",
       "4                  2016  \n",
       "\n",
       "[5 rows x 134 columns]"
      ]
     },
     "execution_count": 5,
     "metadata": {},
     "output_type": "execute_result"
    }
   ],
   "source": [
    "X.head()"
   ]
  },
  {
   "cell_type": "markdown",
   "metadata": {},
   "source": [
    "### Defining Success\n",
    "Let's select our final model parameters based on the evaluation criterion used by the competition, Mean Absolute Error."
   ]
  },
  {
   "cell_type": "code",
   "execution_count": 7,
   "metadata": {},
   "outputs": [
    {
     "name": "stdout",
     "output_type": "stream",
     "text": [
      "def mean_abs_error(y_true, y_pred):\n",
      "    return np.mean(np.abs(y_true - y_pred))\n",
      "\n"
     ]
    }
   ],
   "source": [
    "from helpers import mean_abs_error\n",
    "import inspect\n",
    "print(inspect.getsource(mean_abs_error))"
   ]
  },
  {
   "cell_type": "markdown",
   "metadata": {},
   "source": [
    "### Parameter Tuning and Model Selection\n",
    "For this part we're still only going to leverage the training data."
   ]
  },
  {
   "cell_type": "code",
   "execution_count": 28,
   "metadata": {},
   "outputs": [],
   "source": [
    "def select_params(X, y, max_estimators = 1000, max_depth = 3, learning_rate = 0.01):\n",
    "    \n",
    "    X_train, X_tune, y_train, y_tune = train_test_split(X, y, test_size = 0.33, random_state = 0, shuffle = True)\n",
    "    \n",
    "    # out-of-time tune set\n",
    "    # train_index = X.transactiondate.argsort()[:int(len(X)*0.67)]\n",
    "    # tune_index = X.transactiondate.argsort()[int(len(X)*0.67):]\n",
    "    # X_train = X.iloc[train_index]\n",
    "    # X_tune = X.iloc[tune_index]\n",
    "    # y_train = y.iloc[train_index]\n",
    "    # y_tune = y.iloc[tune_index]\n",
    "    \n",
    "    gbm = GradientBoostingRegressor(n_estimators= max_estimators, learning_rate=learning_rate,\n",
    "                                    max_depth=max_depth, loss = 'lad', subsample=0.5)\n",
    "    gbm.fit(X_train, y_train)\n",
    "    \n",
    "    test_score = np.zeros((max_estimators), dtype = np.float64)\n",
    "    \n",
    "    for i, y_pred in enumerate(gbm.staged_predict(X_tune)):\n",
    "        test_score[i] = mean_abs_error(y_tune, y_pred)\n",
    "    \n",
    "    print('Optimal number of trees: {0}'.format(test_score.argmin()))\n",
    "    print('Best MAE: {0}'.format(test_score.min()))\n",
    "    print('Baseline MAE: {0}'.format(mean_abs_error(y_tune, y_train.median())))\n",
    "    pd.Series(test_score).plot(title='learning curve for max_depth = {0}'.format(max_depth))\n",
    "    plt.show()"
   ]
  },
  {
   "cell_type": "markdown",
   "metadata": {},
   "source": [
    "### Tune Tree Depth\n",
    "learning_rate and max_estimators are anticorrelated; the higher the learning rate the fewer trees are needed. Thus, cranking up the learning rate will make your models fit faster. This comes with a bit of an accuracy hit though, so one popular technique is to tune the tree depth with a higher learning rate and then tune the number of trees with a lower learning rate."
   ]
  },
  {
   "cell_type": "code",
   "execution_count": 29,
   "metadata": {},
   "outputs": [
    {
     "name": "stdout",
     "output_type": "stream",
     "text": [
      "/---- Training for max depth = 2 ----/\n",
      "Optimal number of trees: 903\n",
      "Best MAE: 0.06710351988365118\n",
      "Baseline MAE: 0.06803804369747765\n"
     ]
    },
    {
     "data": {
      "image/png": "[encoded data removed]",
      "text/plain": [
       "<Figure size 432x288 with 1 Axes>"
      ]
     },
     "metadata": {
      "needs_background": "light"
     },
     "output_type": "display_data"
    },
    {
     "name": "stdout",
     "output_type": "stream",
     "text": [
      "/---- Training for max depth = 3 ----/\n",
      "Optimal number of trees: 357\n",
      "Best MAE: 0.06708726539138189\n",
      "Baseline MAE: 0.06803804369747765\n"
     ]
    },
    {
     "data": {
      "image/png": "[encoded data removed]",
      "text/plain": [
       "<Figure size 432x288 with 1 Axes>"
      ]
     },
     "metadata": {
      "needs_background": "light"
     },
     "output_type": "display_data"
    },
    {
     "name": "stdout",
     "output_type": "stream",
     "text": [
      "/---- Training for max depth = 4 ----/\n",
      "Optimal number of trees: 132\n",
      "Best MAE: 0.06715490509480392\n",
      "Baseline MAE: 0.06803804369747765\n"
     ]
    },
    {
     "data": {
      "image/png": "[encoded data removed]",
      "text/plain": [
       "<Figure size 432x288 with 1 Axes>"
      ]
     },
     "metadata": {
      "needs_background": "light"
     },
     "output_type": "display_data"
    }
   ],
   "source": [
    "for depth in [2, 3, 4]:\n",
    "    print('/---- Training for max depth = {0} ----/'.format(depth))\n",
    "    select_params(X, y, max_estimators=1000, max_depth=depth, learning_rate=0.1)"
   ]
  },
  {
   "cell_type": "code",
   "execution_count": 30,
   "metadata": {},
   "outputs": [
    {
     "name": "stdout",
     "output_type": "stream",
     "text": [
      "Optimal number of trees: 1362\n",
      "Best MAE: 0.0670939872831708\n",
      "Baseline MAE: 0.06803804369747765\n"
     ]
    },
    {
     "data": {
      "image/png": "[encoded data removed]",
      "text/plain": [
       "<Figure size 432x288 with 1 Axes>"
      ]
     },
     "metadata": {
      "needs_background": "light"
     },
     "output_type": "display_data"
    }
   ],
   "source": [
    "select_params(X, y, max_estimators=2000, max_depth=2, learning_rate=0.1)"
   ]
  },
  {
   "cell_type": "markdown",
   "metadata": {},
   "source": [
    "### Final Parameters\n",
    "So the parameters we've settled on are\n",
    "- n_estimators  = 1000\n",
    "- learning_rate = 0.1\n",
    "- max_depth     = 2\n",
    "- loss          = 'lad'\n",
    "- subsample     = 0.5"
   ]
  }
 ],
 "metadata": {
  "kernelspec": {
   "display_name": "Python 3",
   "language": "python",
   "name": "python3"
  },
  "language_info": {
   "codemirror_mode": {
    "name": "ipython",
    "version": 3
   },
   "file_extension": ".py",
   "mimetype": "text/x-python",
   "name": "python",
   "nbconvert_exporter": "python",
   "pygments_lexer": "ipython3",
   "version": "3.6.8"
  }
 },
 "nbformat": 4,
 "nbformat_minor": 2
}
